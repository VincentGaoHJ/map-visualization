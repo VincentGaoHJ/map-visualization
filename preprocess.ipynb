{
 "cells": [
  {
   "cell_type": "code",
   "execution_count": 112,
   "metadata": {},
   "outputs": [],
   "source": [
    "import os\n",
    "import pandas\n",
    "from os import walk"
   ]
  },
  {
   "cell_type": "code",
   "execution_count": 113,
   "metadata": {},
   "outputs": [],
   "source": [
    "class Node:\n",
    "    def __init__(self, node_dir, idStr):\n",
    "        self.nodeSelf = node_dir\n",
    "        self.result_dir = os.path.join(node_dir, \"result\")\n",
    "        self.idStr = idStr"
   ]
  },
  {
   "cell_type": "code",
   "execution_count": 114,
   "metadata": {},
   "outputs": [],
   "source": [
    "# 准备工作\n",
    "def init(data_path):\n",
    "    if not os.path.exists(data_path):\n",
    "        raise Exception(\"找不到要可视化数据的文件夹\")\n",
    "\n",
    "    # 设置可视化结果要保存的文件夹\n",
    "    visual_path = data_path + \"-visualization\"\n",
    "    visual_path_data = os.path.join(visual_path, 'data')\n",
    "    if not os.path.exists(visual_path):\n",
    "        os.makedirs(visual_path)\n",
    "    if not os.path.exists(visual_path_data):\n",
    "        os.makedirs(visual_path_data)\n",
    "\n",
    "    return visual_path, visual_path_data"
   ]
  },
  {
   "cell_type": "code",
   "execution_count": 118,
   "metadata": {},
   "outputs": [],
   "source": [
    "def prepare(poi_path):\n",
    "    # 读取初始景点文件，获得每一个景点的经纬度坐标\n",
    "    data = pandas.read_csv(poi_path, sep='\\t')\n",
    "\n",
    "    data.drop(['type_id', 'id', 'page', 'father_name',\n",
    "               'father_id', 'sub_page'], axis=1, inplace=True)\n",
    "\n",
    "    data.rename(columns={'name': 'poi_name'}, inplace=True)\n",
    "\n",
    "    data.head()  # 显示数据的前几行data\n",
    "\n",
    "    return data"
   ]
  },
  {
   "cell_type": "code",
   "execution_count": 119,
   "metadata": {},
   "outputs": [],
   "source": [
    "def main(node, visual_path_data, data):\n",
    "    dataframe_list = []\n",
    "    dataframe_list = []\n",
    "    # walk会返回3个参数，分别是路径，目录list，文件list，你可以按需修改下\n",
    "    for root, dirs, files in walk(node.nodeSelf):\n",
    "        for file in files:\n",
    "            if '.csv' in file:\n",
    "                file_path = root + \"\\\\\" + file\n",
    "                dataframe = pandas.read_csv(file_path)  # 读取文件\n",
    "                dataframe = dataframe.loc[:, ~dataframe.columns.str.contains(\n",
    "                    '^Unnamed')]  # 删除文件中的index列\n",
    "                dataframe = pandas.merge(dataframe, data)  # 将经纬度坐标添加进表格中\n",
    "\n",
    "                file_name_list = file_path.split(\"\\\\\")\n",
    "                file_name = ''.join(filter(lambda s: isinstance(\n",
    "                    s, str) and len(s) <= 5 and s != \".\", file_name_list))\n",
    "                print(file_name_list)\n",
    "                print(file_name)\n",
    "                dataframe.to_csv(os.path.join(\n",
    "                    visual_path_data, file_name) + '.csv', encoding=\"utf-8-sig\")"
   ]
  },
  {
   "cell_type": "code",
   "execution_count": 120,
   "metadata": {},
   "outputs": [
    {
     "name": "stdout",
     "output_type": "stream",
     "text": [
      "['.', '2019-04-14-17-01-26', '0', 'result', '0.csv']\n",
      "00.csv\n",
      "['.', '2019-04-14-17-01-26', '0', 'result', '1.csv']\n",
      "01.csv\n",
      "['.', '2019-04-14-17-01-26', '0', 'result', '2.csv']\n",
      "02.csv\n",
      "['.', '2019-04-14-17-01-26', '0', 'result', '3.csv']\n",
      "03.csv\n",
      "['.', '2019-04-14-17-01-26', '0', 'result', '4.csv']\n",
      "04.csv\n",
      "['.', '2019-04-14-17-01-26', '2', '0', 'result', '0.csv']\n",
      "200.csv\n",
      "['.', '2019-04-14-17-01-26', '2', '0', 'result', '1.csv']\n",
      "201.csv\n",
      "['.', '2019-04-14-17-01-26', '2', '0', 'result', '2.csv']\n",
      "202.csv\n",
      "['.', '2019-04-14-17-01-26', '2', '0', 'result', '3.csv']\n",
      "203.csv\n",
      "['.', '2019-04-14-17-01-26', '2', '0', 'result', '4.csv']\n",
      "204.csv\n",
      "['.', '2019-04-14-17-01-26', '2', 'result', '0.csv']\n",
      "20.csv\n",
      "['.', '2019-04-14-17-01-26', '2', 'result', '1.csv']\n",
      "21.csv\n",
      "['.', '2019-04-14-17-01-26', '2', 'result', '2.csv']\n",
      "22.csv\n",
      "['.', '2019-04-14-17-01-26', '2', 'result', '3.csv']\n",
      "23.csv\n",
      "['.', '2019-04-14-17-01-26', '2', 'result', '4.csv']\n",
      "24.csv\n",
      "['.', '2019-04-14-17-01-26', '4', '0', 'result', '0.csv']\n",
      "400.csv\n",
      "['.', '2019-04-14-17-01-26', '4', '0', 'result', '1.csv']\n",
      "401.csv\n",
      "['.', '2019-04-14-17-01-26', '4', '0', 'result', '2.csv']\n",
      "402.csv\n",
      "['.', '2019-04-14-17-01-26', '4', '0', 'result', '3.csv']\n",
      "403.csv\n",
      "['.', '2019-04-14-17-01-26', '4', '0', 'result', '4.csv']\n",
      "404.csv\n",
      "['.', '2019-04-14-17-01-26', '4', 'result', '0.csv']\n",
      "40.csv\n",
      "['.', '2019-04-14-17-01-26', '4', 'result', '1.csv']\n",
      "41.csv\n",
      "['.', '2019-04-14-17-01-26', '4', 'result', '2.csv']\n",
      "42.csv\n",
      "['.', '2019-04-14-17-01-26', '4', 'result', '3.csv']\n",
      "43.csv\n",
      "['.', '2019-04-14-17-01-26', '4', 'result', '4.csv']\n",
      "44.csv\n",
      "['.', '2019-04-14-17-01-26', 'result', '0.csv']\n",
      "0.csv\n",
      "['.', '2019-04-14-17-01-26', 'result', '1.csv']\n",
      "1.csv\n",
      "['.', '2019-04-14-17-01-26', 'result', '2.csv']\n",
      "2.csv\n",
      "['.', '2019-04-14-17-01-26', 'result', '3.csv']\n",
      "3.csv\n",
      "['.', '2019-04-14-17-01-26', 'result', '4.csv']\n",
      "4.csv\n"
     ]
    }
   ],
   "source": [
    "# 设置要可视化的文件夹\n",
    "data_path = \".\\\\2019-04-14-17-01-26\"\n",
    "poi_path = '.\\\\data\\\\list_all_sub.txt'\n",
    "\n",
    "visual_path, visual_path_data = init(data_path)\n",
    "\n",
    "data = prepare(poi_path)\n",
    "\n",
    "# 创建对象\n",
    "root_node = Node(data_path, '')\n",
    "\n",
    "main(root_node, visual_path_data, data)"
   ]
  },
  {
   "cell_type": "code",
   "execution_count": null,
   "metadata": {},
   "outputs": [],
   "source": []
  }
 ],
 "metadata": {
  "kernelspec": {
   "display_name": "Python 3",
   "language": "python",
   "name": "python3"
  },
  "language_info": {
   "codemirror_mode": {
    "name": "ipython",
    "version": 3
   },
   "file_extension": ".py",
   "mimetype": "text/x-python",
   "name": "python",
   "nbconvert_exporter": "python",
   "pygments_lexer": "ipython3",
   "version": "3.6.2"
  },
  "toc": {
   "base_numbering": 1,
   "nav_menu": {},
   "number_sections": true,
   "sideBar": true,
   "skip_h1_title": false,
   "title_cell": "Table of Contents",
   "title_sidebar": "Contents",
   "toc_cell": false,
   "toc_position": {},
   "toc_section_display": true,
   "toc_window_display": false
  }
 },
 "nbformat": 4,
 "nbformat_minor": 2
}
